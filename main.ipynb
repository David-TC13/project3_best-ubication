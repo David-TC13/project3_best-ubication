{
 "cells": [
  {
   "cell_type": "code",
   "execution_count": 1,
   "id": "56ddfa19",
   "metadata": {},
   "outputs": [],
   "source": [
    "from pymongo import MongoClient\n",
    "import pandas as pd\n",
    "import seaborn as sns\n",
    "import numpy as np\n",
    "import re\n",
    "import plotly.express as px\n",
    "from plotly import graph_objects as go\n",
    "import matplotlib.pyplot as plt"
   ]
  },
  {
   "cell_type": "markdown",
   "id": "894c8c93",
   "metadata": {},
   "source": [
    "## Calling the service MongoDB"
   ]
  },
  {
   "cell_type": "code",
   "execution_count": 2,
   "id": "3f4113fa",
   "metadata": {},
   "outputs": [],
   "source": [
    "client = MongoClient(\"localhost:27017\")"
   ]
  },
  {
   "cell_type": "code",
   "execution_count": 3,
   "id": "80163dc8",
   "metadata": {},
   "outputs": [],
   "source": [
    "db = client[\"Ironhack\"]"
   ]
  },
  {
   "cell_type": "code",
   "execution_count": 4,
   "id": "f072c003",
   "metadata": {},
   "outputs": [],
   "source": [
    "comp = db.get_collection(\"companies\")"
   ]
  },
  {
   "cell_type": "code",
   "execution_count": null,
   "id": "59958cff",
   "metadata": {},
   "outputs": [],
   "source": []
  }
 ],
 "metadata": {
  "kernelspec": {
   "display_name": "ironhack",
   "language": "python",
   "name": "ironhack"
  },
  "language_info": {
   "codemirror_mode": {
    "name": "ipython",
    "version": 3
   },
   "file_extension": ".py",
   "mimetype": "text/x-python",
   "name": "python",
   "nbconvert_exporter": "python",
   "pygments_lexer": "ipython3",
   "version": "3.9.15"
  },
  "toc": {
   "base_numbering": 1,
   "nav_menu": {},
   "number_sections": true,
   "sideBar": true,
   "skip_h1_title": false,
   "title_cell": "Table of Contents",
   "title_sidebar": "Contents",
   "toc_cell": false,
   "toc_position": {},
   "toc_section_display": true,
   "toc_window_display": false
  }
 },
 "nbformat": 4,
 "nbformat_minor": 5
}
