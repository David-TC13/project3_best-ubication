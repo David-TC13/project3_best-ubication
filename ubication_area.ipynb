{
 "cells": [
  {
   "cell_type": "code",
   "execution_count": 1,
   "id": "d047e764",
   "metadata": {},
   "outputs": [],
   "source": [
    "from pymongo import MongoClient\n",
    "import pandas as pd\n",
    "import numpy as np\n",
    "import re\n",
    "import requests\n",
    "import geopandas as gpd\n",
    "from cartoframes.viz import Map, Layer, popup_element\n",
    "import folium\n",
    "from folium import Choropleth, Circle, Marker, Icon, Map\n",
    "from folium.plugins import HeatMap, MarkerCluster"
   ]
  },
  {
   "cell_type": "code",
   "execution_count": 2,
   "id": "84c1fdba",
   "metadata": {},
   "outputs": [],
   "source": [
    "client = MongoClient(\"localhost:27017\")"
   ]
  },
  {
   "cell_type": "code",
   "execution_count": 3,
   "id": "948e7769",
   "metadata": {},
   "outputs": [],
   "source": [
    "db = client[\"Ironhack\"]"
   ]
  },
  {
   "cell_type": "code",
   "execution_count": 4,
   "id": "195edc4c",
   "metadata": {},
   "outputs": [],
   "source": [
    "comp = db.get_collection(\"companies\")"
   ]
  },
  {
   "cell_type": "markdown",
   "id": "fbb0abab",
   "metadata": {},
   "source": [
    "## Getting the address of each company in palo alto"
   ]
  },
  {
   "cell_type": "code",
   "execution_count": 5,
   "id": "a94f1444",
   "metadata": {},
   "outputs": [],
   "source": [
    "companies_name   = {'name':\n",
    "                        {\"$regex\": \n",
    "                        '(SurveyMonkey|LivingSocial|Zynga|BrightSource|Better Place|Tesla Motors|SolarCity|Telefonica|Comcast|SunEdison)',\n",
    "                        \"$options\" :'i'}}\n",
    "companies_city   = {'offices.city':'Palo Alto'}\n",
    "companies_city_1 = {'offices.city':'San Francisco'}                \n",
    "\n",
    "project_= {'offices.address1':1,'offices.city':1,'_id':0}\n",
    "project_1= {'name':1,'offices.address1':1,'offices.city':1,'_id':0}"
   ]
  },
  {
   "cell_type": "code",
   "execution_count": 6,
   "id": "e7de6ee6",
   "metadata": {},
   "outputs": [
    {
     "data": {
      "text/plain": [
       "[{'name': 'Tesla Motors',\n",
       "  'offices': [{'address1': '3500 Deer Creek rd.', 'city': 'Palo Alto'}]},\n",
       " {'name': 'Zynga',\n",
       "  'offices': [{'address1': '365 Vermont St.', 'city': 'San Francisco'},\n",
       "   {'address1': '', 'city': ''},\n",
       "   {'address1': '', 'city': 'Baltimore'},\n",
       "   {'address1': '', 'city': 'Los Angeles'}]},\n",
       " {'name': 'Better Place',\n",
       "  'offices': [{'address1': '1070 Arastradero Road,', 'city': 'Palo Alto'}]},\n",
       " {'name': 'SurveyMonkey',\n",
       "  'offices': [{'address1': '111 SW 5th Ave', 'city': 'Portland'},\n",
       "   {'address1': '285 Hamilton Avenue', 'city': 'Palo Alto'},\n",
       "   {'address1': 'Rua Ivens. 3, Edificio D.', 'city': 'Funchal'}]}]"
      ]
     },
     "execution_count": 6,
     "metadata": {},
     "output_type": "execute_result"
    }
   ],
   "source": [
    "address_with_name = list(comp.find({ \"$and\": [companies_name,{'$or':[companies_city,companies_city_1]}]},project_1))\n",
    "address_with_name"
   ]
  },
  {
   "cell_type": "code",
   "execution_count": 7,
   "id": "c203074e",
   "metadata": {},
   "outputs": [],
   "source": [
    "address = list(comp.find({ \"$and\": \n",
    "                [companies_name,{'$or':\n",
    "                                 [companies_city,companies_city_1]}]},project_ ))"
   ]
  },
  {
   "cell_type": "code",
   "execution_count": 8,
   "id": "4af0d28a",
   "metadata": {},
   "outputs": [
    {
     "data": {
      "text/plain": [
       "[{'offices': [{'address1': '3500 Deer Creek rd.', 'city': 'Palo Alto'}]},\n",
       " {'offices': [{'address1': '365 Vermont St.', 'city': 'San Francisco'},\n",
       "   {'address1': '', 'city': ''},\n",
       "   {'address1': '', 'city': 'Baltimore'},\n",
       "   {'address1': '', 'city': 'Los Angeles'}]},\n",
       " {'offices': [{'address1': '1070 Arastradero Road,', 'city': 'Palo Alto'}]},\n",
       " {'offices': [{'address1': '111 SW 5th Ave', 'city': 'Portland'},\n",
       "   {'address1': '285 Hamilton Avenue', 'city': 'Palo Alto'},\n",
       "   {'address1': 'Rua Ivens. 3, Edificio D.', 'city': 'Funchal'}]}]"
      ]
     },
     "execution_count": 8,
     "metadata": {},
     "output_type": "execute_result"
    }
   ],
   "source": [
    "address"
   ]
  },
  {
   "cell_type": "code",
   "execution_count": 9,
   "id": "9cf95516",
   "metadata": {},
   "outputs": [],
   "source": [
    "address_lst= []\n",
    "for i in address:\n",
    "    for key, value in i.items():\n",
    "        for j in value:\n",
    "            address_lst.append(j)"
   ]
  },
  {
   "cell_type": "code",
   "execution_count": 10,
   "id": "591300d9",
   "metadata": {},
   "outputs": [],
   "source": [
    "            \n",
    "df_address= pd.DataFrame(address_lst)"
   ]
  },
  {
   "cell_type": "code",
   "execution_count": 11,
   "id": "14ddc869",
   "metadata": {},
   "outputs": [],
   "source": [
    "df_address=df_address.apply(lambda x: x[df_address['city'].isin(['Palo Alto', 'San Francisco'])])"
   ]
  },
  {
   "cell_type": "code",
   "execution_count": 12,
   "id": "017e45c3",
   "metadata": {},
   "outputs": [
    {
     "data": {
      "text/html": [
       "<div>\n",
       "<style scoped>\n",
       "    .dataframe tbody tr th:only-of-type {\n",
       "        vertical-align: middle;\n",
       "    }\n",
       "\n",
       "    .dataframe tbody tr th {\n",
       "        vertical-align: top;\n",
       "    }\n",
       "\n",
       "    .dataframe thead th {\n",
       "        text-align: right;\n",
       "    }\n",
       "</style>\n",
       "<table border=\"1\" class=\"dataframe\">\n",
       "  <thead>\n",
       "    <tr style=\"text-align: right;\">\n",
       "      <th></th>\n",
       "      <th>address1</th>\n",
       "      <th>city</th>\n",
       "    </tr>\n",
       "  </thead>\n",
       "  <tbody>\n",
       "    <tr>\n",
       "      <th>0</th>\n",
       "      <td>3500 Deer Creek rd.</td>\n",
       "      <td>Palo Alto</td>\n",
       "    </tr>\n",
       "    <tr>\n",
       "      <th>1</th>\n",
       "      <td>365 Vermont St.</td>\n",
       "      <td>San Francisco</td>\n",
       "    </tr>\n",
       "    <tr>\n",
       "      <th>5</th>\n",
       "      <td>1070 Arastradero Road,</td>\n",
       "      <td>Palo Alto</td>\n",
       "    </tr>\n",
       "    <tr>\n",
       "      <th>7</th>\n",
       "      <td>285 Hamilton Avenue</td>\n",
       "      <td>Palo Alto</td>\n",
       "    </tr>\n",
       "  </tbody>\n",
       "</table>\n",
       "</div>"
      ],
      "text/plain": [
       "                 address1           city\n",
       "0     3500 Deer Creek rd.      Palo Alto\n",
       "1         365 Vermont St.  San Francisco\n",
       "5  1070 Arastradero Road,      Palo Alto\n",
       "7     285 Hamilton Avenue      Palo Alto"
      ]
     },
     "execution_count": 12,
     "metadata": {},
     "output_type": "execute_result"
    }
   ],
   "source": [
    "df_address"
   ]
  },
  {
   "cell_type": "markdown",
   "id": "46be1935",
   "metadata": {},
   "source": [
    "## Coordinates"
   ]
  },
  {
   "cell_type": "code",
   "execution_count": 13,
   "id": "b641ffff",
   "metadata": {},
   "outputs": [],
   "source": [
    "where= '3500 Deer Creek rd., Palo Alto, United States of America'"
   ]
  },
  {
   "cell_type": "code",
   "execution_count": 14,
   "id": "1573aab3",
   "metadata": {},
   "outputs": [
    {
     "data": {
      "text/plain": [
       "{'standard': {'stnumber': '3500',\n",
       "  'addresst': 'DEER CREEK RD',\n",
       "  'statename': 'CA',\n",
       "  'postal': '94304',\n",
       "  'region': 'CA',\n",
       "  'prov': 'US',\n",
       "  'city': 'Palo Alto',\n",
       "  'countryname': 'United States of America',\n",
       "  'confidence': '1.00'},\n",
       " 'longt': '-122.15049',\n",
       " 'alt': {},\n",
       " 'elevation': {},\n",
       " 'latt': '37.39472'}"
      ]
     },
     "execution_count": 14,
     "metadata": {},
     "output_type": "execute_result"
    }
   ],
   "source": [
    "url_geocode = f\"https://geocode.xyz/{where}?json=1\"\n",
    "requests.get(url_geocode).json()"
   ]
  },
  {
   "cell_type": "code",
   "execution_count": 15,
   "id": "cf99a845",
   "metadata": {},
   "outputs": [],
   "source": [
    "list= [\n",
    "    {'name':'Tesla','lat':37.3942781,'lon':-122.152006817},\n",
    "    {'name':'Better Place','lat':37.3942641 ,'lon':-122.14902917 },\n",
    "    {'name':'SurveyMonkey','lat':37.4451016 ,'lon': -122.162978817},\n",
    "    {'name':'Zynga', 'lat':37.76476,'lon':-122.406779318}\n",
    "]"
   ]
  },
  {
   "cell_type": "code",
   "execution_count": 16,
   "id": "3fe9f3fa",
   "metadata": {},
   "outputs": [],
   "source": [
    "df_coordinates= pd.DataFrame(list)"
   ]
  },
  {
   "cell_type": "code",
   "execution_count": 17,
   "id": "52593692",
   "metadata": {},
   "outputs": [
    {
     "data": {
      "text/html": [
       "<div>\n",
       "<style scoped>\n",
       "    .dataframe tbody tr th:only-of-type {\n",
       "        vertical-align: middle;\n",
       "    }\n",
       "\n",
       "    .dataframe tbody tr th {\n",
       "        vertical-align: top;\n",
       "    }\n",
       "\n",
       "    .dataframe thead th {\n",
       "        text-align: right;\n",
       "    }\n",
       "</style>\n",
       "<table border=\"1\" class=\"dataframe\">\n",
       "  <thead>\n",
       "    <tr style=\"text-align: right;\">\n",
       "      <th></th>\n",
       "      <th>name</th>\n",
       "      <th>lat</th>\n",
       "      <th>lon</th>\n",
       "    </tr>\n",
       "  </thead>\n",
       "  <tbody>\n",
       "    <tr>\n",
       "      <th>0</th>\n",
       "      <td>Tesla</td>\n",
       "      <td>37.394278</td>\n",
       "      <td>-122.152007</td>\n",
       "    </tr>\n",
       "    <tr>\n",
       "      <th>1</th>\n",
       "      <td>Better Place</td>\n",
       "      <td>37.394264</td>\n",
       "      <td>-122.149029</td>\n",
       "    </tr>\n",
       "    <tr>\n",
       "      <th>2</th>\n",
       "      <td>SurveyMonkey</td>\n",
       "      <td>37.445102</td>\n",
       "      <td>-122.162979</td>\n",
       "    </tr>\n",
       "    <tr>\n",
       "      <th>3</th>\n",
       "      <td>Zynga</td>\n",
       "      <td>37.764760</td>\n",
       "      <td>-122.406779</td>\n",
       "    </tr>\n",
       "  </tbody>\n",
       "</table>\n",
       "</div>"
      ],
      "text/plain": [
       "           name        lat         lon\n",
       "0         Tesla  37.394278 -122.152007\n",
       "1  Better Place  37.394264 -122.149029\n",
       "2  SurveyMonkey  37.445102 -122.162979\n",
       "3         Zynga  37.764760 -122.406779"
      ]
     },
     "execution_count": 17,
     "metadata": {},
     "output_type": "execute_result"
    }
   ],
   "source": [
    "df_coordinates"
   ]
  },
  {
   "cell_type": "code",
   "execution_count": 18,
   "id": "50d09a2e",
   "metadata": {},
   "outputs": [],
   "source": [
    "palal_lat = 37.4256293\n",
    "palal_lon = -122.2053912\n",
    "\n",
    "palal_map = Map(location=[palal_lat, palal_lon], zoom_start = 9)"
   ]
  },
  {
   "cell_type": "code",
   "execution_count": 19,
   "id": "8055d507",
   "metadata": {},
   "outputs": [],
   "source": [
    "for index, row in df_coordinates.iterrows():\n",
    "    ubications = {\"location\": [row[\"lat\"], row[\"lon\"]]}\n",
    "    if row[\"name\"] == \"Tesla\":        \n",
    "        icon = Icon (\n",
    "            color=\"blue\",\n",
    "            opacity = 0.6,\n",
    "            prefix = \"fa\",\n",
    "            icon=\"briefcase\",\n",
    "            icon_color = \"black\"\n",
    "        )\n",
    "    elif row[\"name\"] == \"Better Place\":\n",
    "        icon = Icon (\n",
    "            color=\"red\",\n",
    "            opacity = 0.6,\n",
    "            prefix = \"fa\",\n",
    "            icon=\"briefcase\",\n",
    "            icon_color = \"yellow\"\n",
    "        )\n",
    "    elif row[\"name\"] == \"SurveyMonkey\":\n",
    "        icon = Icon (\n",
    "            color=\"darkpurple\",\n",
    "            opacity = 0.6,\n",
    "            prefix = \"fa\",\n",
    "            icon=\"briefcase\",\n",
    "            icon_color = \"white\"\n",
    "        )\n",
    "    elif row[\"name\"] == \"Zynga\":\n",
    "        icon = Icon (\n",
    "            color=\"white\",\n",
    "            opacity = 0.6,\n",
    "            prefix = \"fa\",\n",
    "            icon=\"briefcase\",\n",
    "            icon_color = \"red\"\n",
    "        )\n",
    "    \n",
    "    #3. Marker\n",
    "    new_marker = Marker(**ubications, icon = icon, radius = 200)\n",
    "    \n",
    "    #4. Add the Marker\n",
    "    new_marker.add_to(palal_map)"
   ]
  },
  {
   "cell_type": "code",
   "execution_count": 20,
   "id": "16afa065",
   "metadata": {},
   "outputs": [
    {
     "data": {
      "text/html": [
       "<div style=\"width:100%;\"><div style=\"position:relative;width:100%;height:0;padding-bottom:60%;\"><span style=\"color:#565656\">Make this Notebook Trusted to load map: File -> Trust Notebook</span><iframe srcdoc=\"&lt;!DOCTYPE html&gt;\n",
       "&lt;html&gt;\n",
       "&lt;head&gt;\n",
       "    \n",
       "    &lt;meta http-equiv=&quot;content-type&quot; content=&quot;text/html; charset=UTF-8&quot; /&gt;\n",
       "    \n",
       "        &lt;script&gt;\n",
       "            L_NO_TOUCH = false;\n",
       "            L_DISABLE_3D = false;\n",
       "        &lt;/script&gt;\n",
       "    \n",
       "    &lt;style&gt;html, body {width: 100%;height: 100%;margin: 0;padding: 0;}&lt;/style&gt;\n",
       "    &lt;style&gt;#map {position:absolute;top:0;bottom:0;right:0;left:0;}&lt;/style&gt;\n",
       "    &lt;script src=&quot;https://cdn.jsdelivr.net/npm/leaflet@1.9.3/dist/leaflet.js&quot;&gt;&lt;/script&gt;\n",
       "    &lt;script src=&quot;https://code.jquery.com/jquery-1.12.4.min.js&quot;&gt;&lt;/script&gt;\n",
       "    &lt;script src=&quot;https://cdn.jsdelivr.net/npm/bootstrap@5.2.2/dist/js/bootstrap.bundle.min.js&quot;&gt;&lt;/script&gt;\n",
       "    &lt;script src=&quot;https://cdnjs.cloudflare.com/ajax/libs/Leaflet.awesome-markers/2.0.2/leaflet.awesome-markers.js&quot;&gt;&lt;/script&gt;\n",
       "    &lt;link rel=&quot;stylesheet&quot; href=&quot;https://cdn.jsdelivr.net/npm/leaflet@1.9.3/dist/leaflet.css&quot;/&gt;\n",
       "    &lt;link rel=&quot;stylesheet&quot; href=&quot;https://cdn.jsdelivr.net/npm/bootstrap@5.2.2/dist/css/bootstrap.min.css&quot;/&gt;\n",
       "    &lt;link rel=&quot;stylesheet&quot; href=&quot;https://netdna.bootstrapcdn.com/bootstrap/3.0.0/css/bootstrap.min.css&quot;/&gt;\n",
       "    &lt;link rel=&quot;stylesheet&quot; href=&quot;https://cdn.jsdelivr.net/npm/@fortawesome/fontawesome-free@6.2.0/css/all.min.css&quot;/&gt;\n",
       "    &lt;link rel=&quot;stylesheet&quot; href=&quot;https://cdnjs.cloudflare.com/ajax/libs/Leaflet.awesome-markers/2.0.2/leaflet.awesome-markers.css&quot;/&gt;\n",
       "    &lt;link rel=&quot;stylesheet&quot; href=&quot;https://cdn.jsdelivr.net/gh/python-visualization/folium/folium/templates/leaflet.awesome.rotate.min.css&quot;/&gt;\n",
       "    \n",
       "            &lt;meta name=&quot;viewport&quot; content=&quot;width=device-width,\n",
       "                initial-scale=1.0, maximum-scale=1.0, user-scalable=no&quot; /&gt;\n",
       "            &lt;style&gt;\n",
       "                #map_12024128a38fcc4bde1c986b332de73c {\n",
       "                    position: relative;\n",
       "                    width: 100.0%;\n",
       "                    height: 100.0%;\n",
       "                    left: 0.0%;\n",
       "                    top: 0.0%;\n",
       "                }\n",
       "                .leaflet-container { font-size: 1rem; }\n",
       "            &lt;/style&gt;\n",
       "        \n",
       "&lt;/head&gt;\n",
       "&lt;body&gt;\n",
       "    \n",
       "    \n",
       "            &lt;div class=&quot;folium-map&quot; id=&quot;map_12024128a38fcc4bde1c986b332de73c&quot; &gt;&lt;/div&gt;\n",
       "        \n",
       "&lt;/body&gt;\n",
       "&lt;script&gt;\n",
       "    \n",
       "    \n",
       "            var map_12024128a38fcc4bde1c986b332de73c = L.map(\n",
       "                &quot;map_12024128a38fcc4bde1c986b332de73c&quot;,\n",
       "                {\n",
       "                    center: [37.4256293, -122.2053912],\n",
       "                    crs: L.CRS.EPSG3857,\n",
       "                    zoom: 9,\n",
       "                    zoomControl: true,\n",
       "                    preferCanvas: false,\n",
       "                }\n",
       "            );\n",
       "\n",
       "            \n",
       "\n",
       "        \n",
       "    \n",
       "            var tile_layer_9d38ad737cf27825e1a4e9e05c8e3de0 = L.tileLayer(\n",
       "                &quot;https://{s}.tile.openstreetmap.org/{z}/{x}/{y}.png&quot;,\n",
       "                {&quot;attribution&quot;: &quot;Data by \\u0026copy; \\u003ca target=\\&quot;_blank\\&quot; href=\\&quot;http://openstreetmap.org\\&quot;\\u003eOpenStreetMap\\u003c/a\\u003e, under \\u003ca target=\\&quot;_blank\\&quot; href=\\&quot;http://www.openstreetmap.org/copyright\\&quot;\\u003eODbL\\u003c/a\\u003e.&quot;, &quot;detectRetina&quot;: false, &quot;maxNativeZoom&quot;: 18, &quot;maxZoom&quot;: 18, &quot;minZoom&quot;: 0, &quot;noWrap&quot;: false, &quot;opacity&quot;: 1, &quot;subdomains&quot;: &quot;abc&quot;, &quot;tms&quot;: false}\n",
       "            ).addTo(map_12024128a38fcc4bde1c986b332de73c);\n",
       "        \n",
       "    \n",
       "            var marker_d2b35240ad30120e49aa11bddd0e6153 = L.marker(\n",
       "                [37.3942781, -122.152006817],\n",
       "                {&quot;radius&quot;: 200}\n",
       "            ).addTo(map_12024128a38fcc4bde1c986b332de73c);\n",
       "        \n",
       "    \n",
       "            var icon_0f89244db99f416649104b2565b30f11 = L.AwesomeMarkers.icon(\n",
       "                {&quot;extraClasses&quot;: &quot;fa-rotate-0&quot;, &quot;icon&quot;: &quot;briefcase&quot;, &quot;iconColor&quot;: &quot;black&quot;, &quot;markerColor&quot;: &quot;blue&quot;, &quot;opacity&quot;: 0.6, &quot;prefix&quot;: &quot;fa&quot;}\n",
       "            );\n",
       "            marker_d2b35240ad30120e49aa11bddd0e6153.setIcon(icon_0f89244db99f416649104b2565b30f11);\n",
       "        \n",
       "    \n",
       "            var marker_526f6eb83f8c24dc96f738a890d764f7 = L.marker(\n",
       "                [37.3942641, -122.14902917],\n",
       "                {&quot;radius&quot;: 200}\n",
       "            ).addTo(map_12024128a38fcc4bde1c986b332de73c);\n",
       "        \n",
       "    \n",
       "            var icon_1bf82553ddbbcc44759f85a21b89ba34 = L.AwesomeMarkers.icon(\n",
       "                {&quot;extraClasses&quot;: &quot;fa-rotate-0&quot;, &quot;icon&quot;: &quot;briefcase&quot;, &quot;iconColor&quot;: &quot;yellow&quot;, &quot;markerColor&quot;: &quot;red&quot;, &quot;opacity&quot;: 0.6, &quot;prefix&quot;: &quot;fa&quot;}\n",
       "            );\n",
       "            marker_526f6eb83f8c24dc96f738a890d764f7.setIcon(icon_1bf82553ddbbcc44759f85a21b89ba34);\n",
       "        \n",
       "    \n",
       "            var marker_317803183cda32d6612db7fe42011efc = L.marker(\n",
       "                [37.4451016, -122.162978817],\n",
       "                {&quot;radius&quot;: 200}\n",
       "            ).addTo(map_12024128a38fcc4bde1c986b332de73c);\n",
       "        \n",
       "    \n",
       "            var icon_9faf817d907c73adb97823cba37cdbb2 = L.AwesomeMarkers.icon(\n",
       "                {&quot;extraClasses&quot;: &quot;fa-rotate-0&quot;, &quot;icon&quot;: &quot;briefcase&quot;, &quot;iconColor&quot;: &quot;white&quot;, &quot;markerColor&quot;: &quot;darkpurple&quot;, &quot;opacity&quot;: 0.6, &quot;prefix&quot;: &quot;fa&quot;}\n",
       "            );\n",
       "            marker_317803183cda32d6612db7fe42011efc.setIcon(icon_9faf817d907c73adb97823cba37cdbb2);\n",
       "        \n",
       "    \n",
       "            var marker_3cd68efbd0eb0e11427479d0a078d12b = L.marker(\n",
       "                [37.76476, -122.406779318],\n",
       "                {&quot;radius&quot;: 200}\n",
       "            ).addTo(map_12024128a38fcc4bde1c986b332de73c);\n",
       "        \n",
       "    \n",
       "            var icon_6c77705c7109e15ccdf0905ba0b356b0 = L.AwesomeMarkers.icon(\n",
       "                {&quot;extraClasses&quot;: &quot;fa-rotate-0&quot;, &quot;icon&quot;: &quot;briefcase&quot;, &quot;iconColor&quot;: &quot;red&quot;, &quot;markerColor&quot;: &quot;white&quot;, &quot;opacity&quot;: 0.6, &quot;prefix&quot;: &quot;fa&quot;}\n",
       "            );\n",
       "            marker_3cd68efbd0eb0e11427479d0a078d12b.setIcon(icon_6c77705c7109e15ccdf0905ba0b356b0);\n",
       "        \n",
       "&lt;/script&gt;\n",
       "&lt;/html&gt;\" style=\"position:absolute;width:100%;height:100%;left:0;top:0;border:none !important;\" allowfullscreen webkitallowfullscreen mozallowfullscreen></iframe></div></div>"
      ],
      "text/plain": [
       "<folium.folium.Map at 0x13e1961c0>"
      ]
     },
     "execution_count": 20,
     "metadata": {},
     "output_type": "execute_result"
    }
   ],
   "source": [
    "palal_map"
   ]
  },
  {
   "cell_type": "code",
   "execution_count": null,
   "id": "8fa7edd9",
   "metadata": {},
   "outputs": [],
   "source": []
  }
 ],
 "metadata": {
  "kernelspec": {
   "display_name": "ironhack",
   "language": "python",
   "name": "ironhack"
  },
  "language_info": {
   "codemirror_mode": {
    "name": "ipython",
    "version": 3
   },
   "file_extension": ".py",
   "mimetype": "text/x-python",
   "name": "python",
   "nbconvert_exporter": "python",
   "pygments_lexer": "ipython3",
   "version": "3.9.15"
  },
  "toc": {
   "base_numbering": 1,
   "nav_menu": {},
   "number_sections": true,
   "sideBar": true,
   "skip_h1_title": false,
   "title_cell": "Table of Contents",
   "title_sidebar": "Contents",
   "toc_cell": false,
   "toc_position": {},
   "toc_section_display": true,
   "toc_window_display": false
  }
 },
 "nbformat": 4,
 "nbformat_minor": 5
}
