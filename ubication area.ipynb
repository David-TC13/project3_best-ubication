{
 "cells": [
  {
   "cell_type": "code",
   "execution_count": 105,
   "id": "d047e764",
   "metadata": {},
   "outputs": [],
   "source": [
    "from pymongo import MongoClient\n",
    "import pandas as pd\n",
    "import numpy as np\n",
    "import re\n",
    "import requests\n",
    "import geopandas as gpd\n",
    "from cartoframes.viz import Map, Layer, popup_element"
   ]
  },
  {
   "cell_type": "code",
   "execution_count": 106,
   "id": "84c1fdba",
   "metadata": {},
   "outputs": [],
   "source": [
    "client = MongoClient(\"localhost:27017\")"
   ]
  },
  {
   "cell_type": "code",
   "execution_count": 107,
   "id": "948e7769",
   "metadata": {},
   "outputs": [],
   "source": [
    "db = client[\"Ironhack\"]"
   ]
  },
  {
   "cell_type": "code",
   "execution_count": 108,
   "id": "195edc4c",
   "metadata": {},
   "outputs": [],
   "source": [
    "comp = db.get_collection(\"companies\")"
   ]
  },
  {
   "cell_type": "markdown",
   "id": "fbb0abab",
   "metadata": {},
   "source": [
    "## Getting the address of each company in palo alto"
   ]
  },
  {
   "cell_type": "code",
   "execution_count": 131,
   "id": "a94f1444",
   "metadata": {},
   "outputs": [],
   "source": [
    "companies_name   = {'name':\n",
    "                        {\"$regex\": \n",
    "                        '(SurveyMonkey|LivingSocial|Zynga|BrightSource|Better Place|Tesla Motors|SolarCity|Telefonica|Comcast|SunEdison)',\n",
    "                        \"$options\" :'i'}}\n",
    "companies_city   = {'offices.city':'Palo Alto'}\n",
    "companies_city_1 = {'offices.city':'San Francisco'}                \n",
    "\n",
    "project_= {'offices.address1':1,'offices.city':1,'_id':0}"
   ]
  },
  {
   "cell_type": "code",
   "execution_count": 132,
   "id": "c203074e",
   "metadata": {},
   "outputs": [],
   "source": [
    "address = list(comp.find({ \"$and\": \n",
    "                [companies_name,{'$or':\n",
    "                                 [companies_city,companies_city_1]}]},project_ ))"
   ]
  },
  {
   "cell_type": "code",
   "execution_count": 133,
   "id": "4af0d28a",
   "metadata": {},
   "outputs": [
    {
     "data": {
      "text/plain": [
       "[{'offices': [{'address1': '3500 Deer Creek rd.', 'city': 'Palo Alto'}]},\n",
       " {'offices': [{'address1': '365 Vermont St.', 'city': 'San Francisco'},\n",
       "   {'address1': '', 'city': ''},\n",
       "   {'address1': '', 'city': 'Baltimore'},\n",
       "   {'address1': '', 'city': 'Los Angeles'}]},\n",
       " {'offices': [{'address1': '1070 Arastradero Road,', 'city': 'Palo Alto'}]},\n",
       " {'offices': [{'address1': '111 SW 5th Ave', 'city': 'Portland'},\n",
       "   {'address1': '285 Hamilton Avenue', 'city': 'Palo Alto'},\n",
       "   {'address1': 'Rua Ivens. 3, Edificio D.', 'city': 'Funchal'}]}]"
      ]
     },
     "execution_count": 133,
     "metadata": {},
     "output_type": "execute_result"
    }
   ],
   "source": [
    "address"
   ]
  },
  {
   "cell_type": "code",
   "execution_count": 134,
   "id": "9cf95516",
   "metadata": {},
   "outputs": [],
   "source": [
    "address_lst= []\n",
    "for i in address:\n",
    "    for key, value in i.items():\n",
    "        for j in value:\n",
    "            address_lst.append(j)"
   ]
  },
  {
   "cell_type": "code",
   "execution_count": 135,
   "id": "591300d9",
   "metadata": {},
   "outputs": [],
   "source": [
    "            \n",
    "df_address= pd.DataFrame(address_lst)"
   ]
  },
  {
   "cell_type": "code",
   "execution_count": 136,
   "id": "14ddc869",
   "metadata": {},
   "outputs": [],
   "source": [
    "df_address=df_address.apply(lambda x: x[df_address['city'].isin(['Palo Alto'])])"
   ]
  },
  {
   "cell_type": "code",
   "execution_count": 137,
   "id": "017e45c3",
   "metadata": {},
   "outputs": [
    {
     "data": {
      "text/html": [
       "<div>\n",
       "<style scoped>\n",
       "    .dataframe tbody tr th:only-of-type {\n",
       "        vertical-align: middle;\n",
       "    }\n",
       "\n",
       "    .dataframe tbody tr th {\n",
       "        vertical-align: top;\n",
       "    }\n",
       "\n",
       "    .dataframe thead th {\n",
       "        text-align: right;\n",
       "    }\n",
       "</style>\n",
       "<table border=\"1\" class=\"dataframe\">\n",
       "  <thead>\n",
       "    <tr style=\"text-align: right;\">\n",
       "      <th></th>\n",
       "      <th>address1</th>\n",
       "      <th>city</th>\n",
       "    </tr>\n",
       "  </thead>\n",
       "  <tbody>\n",
       "    <tr>\n",
       "      <th>0</th>\n",
       "      <td>3500 Deer Creek rd.</td>\n",
       "      <td>Palo Alto</td>\n",
       "    </tr>\n",
       "    <tr>\n",
       "      <th>5</th>\n",
       "      <td>1070 Arastradero Road,</td>\n",
       "      <td>Palo Alto</td>\n",
       "    </tr>\n",
       "    <tr>\n",
       "      <th>7</th>\n",
       "      <td>285 Hamilton Avenue</td>\n",
       "      <td>Palo Alto</td>\n",
       "    </tr>\n",
       "  </tbody>\n",
       "</table>\n",
       "</div>"
      ],
      "text/plain": [
       "                 address1       city\n",
       "0     3500 Deer Creek rd.  Palo Alto\n",
       "5  1070 Arastradero Road,  Palo Alto\n",
       "7     285 Hamilton Avenue  Palo Alto"
      ]
     },
     "execution_count": 137,
     "metadata": {},
     "output_type": "execute_result"
    }
   ],
   "source": [
    "df_address"
   ]
  },
  {
   "cell_type": "markdown",
   "id": "46be1935",
   "metadata": {},
   "source": [
    "## Coordinates"
   ]
  },
  {
   "cell_type": "code",
   "execution_count": 139,
   "id": "b641ffff",
   "metadata": {},
   "outputs": [],
   "source": [
    "where= '3500 Deer Creek rd., Palo Alto, United States of America'"
   ]
  },
  {
   "cell_type": "code",
   "execution_count": 140,
   "id": "1573aab3",
   "metadata": {},
   "outputs": [
    {
     "data": {
      "text/plain": [
       "{'success': False,\n",
       " 'error': {'code': '006',\n",
       "  'message': 'Request Throttled. Over Rate limit: up to 2 per sec. See geocode.xyz/pricing',\n",
       "  'requests': '93'}}"
      ]
     },
     "execution_count": 140,
     "metadata": {},
     "output_type": "execute_result"
    }
   ],
   "source": [
    "url_geocode = f\"https://geocode.xyz/{where}?json=1\"\n",
    "requests.get(url_geocode).json()"
   ]
  },
  {
   "cell_type": "code",
   "execution_count": 147,
   "id": "cf99a845",
   "metadata": {},
   "outputs": [],
   "source": [
    "list= [\n",
    "    {'name':'Tesla','lat':37.3942781,'lon':-122.152006817},\n",
    "    {'name':'Stanford','lat':37.3942641 ,'lon':-122.14902917 },\n",
    "    {'name':'City hall ','lat':37.4451016 ,'lon': -122.162978817}\n",
    "]"
   ]
  },
  {
   "cell_type": "code",
   "execution_count": 148,
   "id": "3fe9f3fa",
   "metadata": {},
   "outputs": [],
   "source": [
    "df_coordinates= pd.DataFrame(list)"
   ]
  },
  {
   "cell_type": "code",
   "execution_count": 149,
   "id": "52593692",
   "metadata": {},
   "outputs": [
    {
     "data": {
      "text/html": [
       "<div>\n",
       "<style scoped>\n",
       "    .dataframe tbody tr th:only-of-type {\n",
       "        vertical-align: middle;\n",
       "    }\n",
       "\n",
       "    .dataframe tbody tr th {\n",
       "        vertical-align: top;\n",
       "    }\n",
       "\n",
       "    .dataframe thead th {\n",
       "        text-align: right;\n",
       "    }\n",
       "</style>\n",
       "<table border=\"1\" class=\"dataframe\">\n",
       "  <thead>\n",
       "    <tr style=\"text-align: right;\">\n",
       "      <th></th>\n",
       "      <th>name</th>\n",
       "      <th>lat</th>\n",
       "      <th>lon</th>\n",
       "    </tr>\n",
       "  </thead>\n",
       "  <tbody>\n",
       "    <tr>\n",
       "      <th>0</th>\n",
       "      <td>Tesla</td>\n",
       "      <td>37.394278</td>\n",
       "      <td>-122.152007</td>\n",
       "    </tr>\n",
       "    <tr>\n",
       "      <th>1</th>\n",
       "      <td>Stanford</td>\n",
       "      <td>37.394264</td>\n",
       "      <td>-122.149029</td>\n",
       "    </tr>\n",
       "    <tr>\n",
       "      <th>2</th>\n",
       "      <td>City hall</td>\n",
       "      <td>37.445102</td>\n",
       "      <td>-122.162979</td>\n",
       "    </tr>\n",
       "  </tbody>\n",
       "</table>\n",
       "</div>"
      ],
      "text/plain": [
       "         name        lat         lon\n",
       "0       Tesla  37.394278 -122.152007\n",
       "1    Stanford  37.394264 -122.149029\n",
       "2  City hall   37.445102 -122.162979"
      ]
     },
     "execution_count": 149,
     "metadata": {},
     "output_type": "execute_result"
    }
   ],
   "source": [
    "df_coordinates"
   ]
  },
  {
   "cell_type": "code",
   "execution_count": null,
   "id": "8055d507",
   "metadata": {},
   "outputs": [],
   "source": []
  }
 ],
 "metadata": {
  "kernelspec": {
   "display_name": "ironhack",
   "language": "python",
   "name": "ironhack"
  },
  "language_info": {
   "codemirror_mode": {
    "name": "ipython",
    "version": 3
   },
   "file_extension": ".py",
   "mimetype": "text/x-python",
   "name": "python",
   "nbconvert_exporter": "python",
   "pygments_lexer": "ipython3",
   "version": "3.9.15"
  },
  "toc": {
   "base_numbering": 1,
   "nav_menu": {},
   "number_sections": true,
   "sideBar": true,
   "skip_h1_title": false,
   "title_cell": "Table of Contents",
   "title_sidebar": "Contents",
   "toc_cell": false,
   "toc_position": {},
   "toc_section_display": true,
   "toc_window_display": false
  }
 },
 "nbformat": 4,
 "nbformat_minor": 5
}
